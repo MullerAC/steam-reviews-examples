{
 "cells": [
  {
   "cell_type": "markdown",
   "metadata": {},
   "source": [
    "# Scraping Steam User Reviews"
   ]
  },
  {
   "cell_type": "markdown",
   "metadata": {},
   "source": [
    "###### Using python to scrape user reviews from the Steam store without using the API."
   ]
  },
  {
   "cell_type": "markdown",
   "metadata": {},
   "source": [
    "[The Steam store](https://store.steampowered.com/) is the premier online store for video games out there. It's been around since 2003, but in 2013, they added the ability for users to submit their own reviews. These reviews are labeled as either \"Recommended\" or \"Not Recommended\" by the reviewer. This gives you a huge amount of data you can use for your next NLP project. Or perhaps you're just curious about one game in particular. Either way, I'm going to so you how to scrap those reviews using python so you can get all the reviews you want easily."
   ]
  },
  {
   "cell_type": "markdown",
   "metadata": {},
   "source": [
    "### Getting some reviews"
   ]
  },
  {
   "cell_type": "markdown",
   "metadata": {},
   "source": [
    "Accessing reviews from one game is pretty easy. Just visit 'https://store.steampowered.com/appreviews/&lt;appid&gt;?json=1' with the app id of whatever game you want at the end. For example: 'https://store.steampowered.com/appreviews/413150?json=1'. To find the app id of a particular game, just check the url on its store page."
   ]
  },
  {
   "cell_type": "markdown",
   "metadata": {},
   "source": [
    "-app-id image"
   ]
  },
  {
   "cell_type": "markdown",
   "metadata": {},
   "source": [
    "So to get some reviews, it's just as simple as this:"
   ]
  },
  {
   "cell_type": "markdown",
   "metadata": {},
   "source": [
    "```\n",
    "import requests\n",
    "response = requests.get(url='https://store.steampowered.com/appreviews/413150?json=1').json()\n",
    "```"
   ]
  },
  {
   "cell_type": "markdown",
   "metadata": {},
   "source": [
    "You need the `.json()` call to get the information out of the request, instead of just `<Response [200]>`.\n",
    "\n",
    "Even that can be improved, though. Here is a more easily usable function to get the reviews. The 'params' parameter allows us to put in parameters beyone `json=1`, which we will get to soon. The 'headers' parameter tells Steam that it is a browser making the request, not - for example - a python program pretending to be a browser. It may not be necessary here, but it might help if you are scraping lots of reviews at once."
   ]
  },
  {
   "cell_type": "markdown",
   "metadata": {},
   "source": [
    "```\n",
    "import requests\n",
    "\n",
    "def get_reviews(appid, params={'json':1}):\n",
    "        url = 'https://store.steampowered.com/appreviews/'\n",
    "        response = requests.get(url=url+appid, params=params, headers={'User-Agent': 'Mozilla/5.0'})\n",
    "        return response.json()\n",
    "```"
   ]
  },
  {
   "cell_type": "markdown",
   "metadata": {},
   "source": [
    "### Getting more reviews"
   ]
  },
  {
   "cell_type": "markdown",
   "metadata": {},
   "source": [
    "Back to those parameters I mentioned. You can see the documentation [here](https://partner.steamgames.com/doc/store/getreviews), but the most important is 'cursor'. If you want more than the maximum 100 reviews you can get from a single request, you'll need to use the cursor. A response includes a 'cursor' attribute, marking which review your request completed on. Including the same cursor in your next request's parameters starts the reviews at the same spot, meaning you get a completely new set of reviews. The cursor is a seemingly random string of characters, and may include characters that need to be encoded to work with a URL request."
   ]
  },
  {
   "cell_type": "markdown",
   "metadata": {},
   "source": [
    "```\n",
    "params = {'json':1}\n",
    "response = get_reviews(413150, params)\n",
    "cursor = response['cursor']\n",
    "params['cursor'] = cursor.encode()\n",
    "response_2 = get_reviews(413150, params)\n",
    "```"
   ]
  },
  {
   "cell_type": "markdown",
   "metadata": {},
   "source": [
    "Or, to put it into a function:"
   ]
  },
  {
   "cell_type": "markdown",
   "metadata": {},
   "source": [
    "```\n",
    "def get_n_reviews(appid, n=100):\n",
    "    reviews = []\n",
    "    cursor = '*'\n",
    "    params = {\n",
    "            'json' : 1,\n",
    "            'filter' : 'all',\n",
    "            'language' : 'english',\n",
    "            'day_range' : 9223372036854775807,\n",
    "            'review_type' : 'all',\n",
    "            'purchase_type' : 'all'\n",
    "            }\n",
    "    \n",
    "    while n > 0:\n",
    "        params['cursor'] = cursor.encode()\n",
    "        params['num_per_page'] = min(100, n)\n",
    "        n -= 100\n",
    "        \n",
    "        response = get_reviews(appid, params)\n",
    "        cursor = response['cursor']\n",
    "        reviews += response['reviews']\n",
    "        \n",
    "        if len(response['reviews']) < 100: break\n",
    "    \n",
    "    return reviews\n",
    "```"
   ]
  },
  {
   "cell_type": "markdown",
   "metadata": {},
   "source": [
    "You can change the parameters if you'd like, but this grabs the n most helpful reviews from all time. The loop at the end ensures you stop taking reviews when you reach the end of all the reviews the game has (at least, those that meet your parameter criteria), and returns all reviews into one list."
   ]
  },
  {
   "cell_type": "markdown",
   "metadata": {},
   "source": [
    "### Getting an app id"
   ]
  },
  {
   "cell_type": "markdown",
   "metadata": {},
   "source": [
    "Alright, so you've got a way to get a bunch of reviews. But how do you get an app id in the first place? Well I showed earlier how to get the app id of a single game, but that isn't useful if you want to get reviews via python, or to get a bunch of app ids at once. To do this, we are going to have to do a bit of web scraping."
   ]
  },
  {
   "cell_type": "markdown",
   "metadata": {},
   "source": [
    "```\n",
    "from bs4 import BeautifulSoup\n",
    "\n",
    "def get_app_id(game_name):\n",
    "    response = requests.get(url=f'https://store.steampowered.com/search/?term={game_name}&category1=998', headers={'User-Agent': 'Mozilla/5.0'})\n",
    "    soup = BeautifulSoup(response.text, 'html.parser')\n",
    "    app_id = soup.find(class_='search_result_row')['data-ds-appid']\n",
    "\n",
    "    return app_id\n",
    "```"
   ]
  },
  {
   "cell_type": "markdown",
   "metadata": {},
   "source": [
    "First, we use the requests library to get the html from a Steam store search result. the category parameter checks the 'Games' category, ensuring you don't accidentally get a software, demo, soundtrack, or some other store item. Then feed the html of the resulting webpage to a library called BeautifulSoup. BeautifulSoup is a n extremely useful webscraping library. You can check out the documentation [here](https://www.crummy.com/software/BeautifulSoup/bs4/doc/), but I'll go over some of the basic uses for this blog post.\n",
    "\n",
    "The 'find' method grabs the first html tag the meets the required characteristics. In this case, we will take any tag that has the class 'search_result_row', which is what the Steam store uses for each search result. The index after that method call takes the 'data-ds-appid' attribute of the found tag, which is the attribute the Steam store uses to store the app id of a game in a search result.\n",
    "\n",
    "I've given you these answers here, but if you want to find out the tags and attributes used on some other site, you'll need to do soom digging into the site's html. To find out the html tag of a specific element you see on the site, just right clock it and select 'Inspect Element'."
   ]
  },
  {
   "cell_type": "markdown",
   "metadata": {},
   "source": [
    "### Getting more app ids"
   ]
  },
  {
   "cell_type": "markdown",
   "metadata": {},
   "source": [
    "But now you want to get a bunch of app ids at once. Well you can do that too."
   ]
  },
  {
   "cell_type": "markdown",
   "metadata": {},
   "source": [
    "### functions"
   ]
  },
  {
   "cell_type": "code",
   "execution_count": 3,
   "metadata": {},
   "outputs": [],
   "source": [
    "import requests"
   ]
  },
  {
   "cell_type": "code",
   "execution_count": 7,
   "metadata": {},
   "outputs": [],
   "source": [
    "def get_reviews(appid, params=None):\n",
    "        url_start = 'https://store.steampowered.com/appreviews/'\n",
    "        response = requests.get(url=url_start+appid, params=params, headers={'User-Agent': 'Mozilla/5.0'})\n",
    "        return response.json() # return data extracted from the json response"
   ]
  },
  {
   "cell_type": "code",
   "execution_count": 2,
   "metadata": {},
   "outputs": [],
   "source": [
    "def get_n_reviews(appid, n=100):\n",
    "    reviews = []\n",
    "    cursor = '*'\n",
    "    params = { # https://partner.steamgames.com/doc/store/getreviews\n",
    "            'json' : 1,\n",
    "            'filter' : 'all', # sort by: recent, updated, all (helpfullness)\n",
    "            'language' : 'english', # https://partner.steamgames.com/doc/store/localization\n",
    "            'day_range' : 9223372036854775807, # shows reveiws from all time\n",
    "            'review_type' : 'all', # all, positive, negative\n",
    "            'purchase_type' : 'all', # all, non_steam_purchase, steam\n",
    "        }\n",
    "    while n > 0:\n",
    "        params['cursor'] = cursor.encode() # for pagination\n",
    "        params['num_per_page'] = min(100, n) # 100 is the max possible reviews in one requests\n",
    "        n -= 100\n",
    "        \n",
    "        response = get_reviews(appid, params)\n",
    "        cursor = response['cursor']\n",
    "        reviews += response['reviews']\n",
    "        \n",
    "        if len(response['reviews']) < 100: break\n",
    "    \n",
    "    return reviews"
   ]
  },
  {
   "cell_type": "code",
   "execution_count": 4,
   "metadata": {},
   "outputs": [],
   "source": [
    "from bs4 import BeautifulSoup"
   ]
  },
  {
   "cell_type": "code",
   "execution_count": 5,
   "metadata": {},
   "outputs": [],
   "source": [
    "def get_n_appids_2(n=100, filter_by='topsellers'):\n",
    "    appids = []\n",
    "    url = f'https://store.steampowered.com/search/?category1=998&filter={filter_by}&page='\n",
    "    page = 0\n",
    "    \n",
    "    while page*25 < n:\n",
    "        page += 1\n",
    "        response = requests.get(url=url+str(page), headers={'User-Agent': 'Mozilla/5.0'})\n",
    "        soup = BeautifulSoup(response.text, 'html.parser')\n",
    "        for row in soup.find_all(class_='search_result_row'):\n",
    "            appids.append(row['data-ds-appid'])\n",
    "    \n",
    "    return appids[:n]"
   ]
  },
  {
   "cell_type": "code",
   "execution_count": 6,
   "metadata": {},
   "outputs": [
    {
     "data": {
      "text/plain": [
       "['281990',\n",
       " '730',\n",
       " '359550',\n",
       " '252490',\n",
       " '1172620',\n",
       " '680420',\n",
       " '1172470',\n",
       " '582010',\n",
       " '720620',\n",
       " '306130',\n",
       " '242760',\n",
       " '1426210',\n",
       " '230410',\n",
       " '271590',\n",
       " '1222670',\n",
       " '526870',\n",
       " '892970',\n",
       " '1085660',\n",
       " '976310',\n",
       " '381210',\n",
       " '418370',\n",
       " '1237970',\n",
       " '952060',\n",
       " '1196590',\n",
       " '582660',\n",
       " '976310,1054480,1273971,1449880',\n",
       " '1139900',\n",
       " '1259420',\n",
       " '250900',\n",
       " '236390',\n",
       " '39210',\n",
       " '601150',\n",
       " '883710',\n",
       " '1056640',\n",
       " '1113560',\n",
       " '1238810',\n",
       " '739630',\n",
       " '1238860',\n",
       " '1086940',\n",
       " '386360',\n",
       " '594650',\n",
       " '694280',\n",
       " '1295270',\n",
       " '552990',\n",
       " '905370',\n",
       " '238960',\n",
       " '1174180',\n",
       " '440',\n",
       " '289070',\n",
       " '976730',\n",
       " '1238840',\n",
       " '880940',\n",
       " '1250410',\n",
       " '346110',\n",
       " '1293830',\n",
       " '719040',\n",
       " '732050',\n",
       " '393380',\n",
       " '489830',\n",
       " '620980',\n",
       " '413150',\n",
       " '342180',\n",
       " '397540',\n",
       " '1091500',\n",
       " '1328670',\n",
       " '310950',\n",
       " '960090',\n",
       " '311210',\n",
       " '1286830',\n",
       " '284160',\n",
       " '632360',\n",
       " '221100',\n",
       " '594570',\n",
       " '648800',\n",
       " '631510',\n",
       " '1293160',\n",
       " '367500',\n",
       " '945360',\n",
       " '1225330',\n",
       " '953880',\n",
       " '255710',\n",
       " '1158310',\n",
       " '377160',\n",
       " '546560',\n",
       " '578080',\n",
       " '1343400',\n",
       " '782330',\n",
       " '359320',\n",
       " '221040',\n",
       " '848450',\n",
       " '933110',\n",
       " '291550',\n",
       " '883710,920560,920561,920562,920563,920564,920567,920568',\n",
       " '1097150',\n",
       " '105600',\n",
       " '21690',\n",
       " '1134570',\n",
       " '1151340',\n",
       " '254700',\n",
       " '555160']"
      ]
     },
     "execution_count": 6,
     "metadata": {},
     "output_type": "execute_result"
    }
   ],
   "source": [
    "a = get_n_appids_2()\n",
    "a"
   ]
  },
  {
   "cell_type": "code",
   "execution_count": null,
   "metadata": {},
   "outputs": [],
   "source": [
    "import pandas as pd"
   ]
  },
  {
   "cell_type": "code",
   "execution_count": 4,
   "metadata": {},
   "outputs": [
    {
     "ename": "NameError",
     "evalue": "name 'requests' is not defined",
     "output_type": "error",
     "traceback": [
      "\u001b[1;31m---------------------------------------------------------------------------\u001b[0m",
      "\u001b[1;31mNameError\u001b[0m                                 Traceback (most recent call last)",
      "\u001b[1;32m<ipython-input-4-fd9c21da6fef>\u001b[0m in \u001b[0;36m<module>\u001b[1;34m\u001b[0m\n\u001b[0;32m      1\u001b[0m \u001b[0mreviews\u001b[0m \u001b[1;33m=\u001b[0m \u001b[1;33m[\u001b[0m\u001b[1;33m]\u001b[0m\u001b[1;33m\u001b[0m\u001b[1;33m\u001b[0m\u001b[0m\n\u001b[1;32m----> 2\u001b[1;33m \u001b[0mappids\u001b[0m \u001b[1;33m=\u001b[0m \u001b[0mget_n_appids\u001b[0m\u001b[1;33m(\u001b[0m\u001b[1;36m750\u001b[0m\u001b[1;33m)\u001b[0m\u001b[1;33m\u001b[0m\u001b[1;33m\u001b[0m\u001b[0m\n\u001b[0m\u001b[0;32m      3\u001b[0m \u001b[1;32mfor\u001b[0m \u001b[0mappid\u001b[0m \u001b[1;32min\u001b[0m \u001b[0mappids\u001b[0m\u001b[1;33m:\u001b[0m\u001b[1;33m\u001b[0m\u001b[1;33m\u001b[0m\u001b[0m\n\u001b[0;32m      4\u001b[0m     \u001b[0mreviews\u001b[0m \u001b[1;33m+=\u001b[0m \u001b[0mget_n_reviews\u001b[0m\u001b[1;33m(\u001b[0m\u001b[0mappid\u001b[0m\u001b[1;33m,\u001b[0m \u001b[1;36m100\u001b[0m\u001b[1;33m)\u001b[0m\u001b[1;33m\u001b[0m\u001b[1;33m\u001b[0m\u001b[0m\n\u001b[0;32m      5\u001b[0m \u001b[0mdf\u001b[0m \u001b[1;33m=\u001b[0m \u001b[0mpd\u001b[0m\u001b[1;33m.\u001b[0m\u001b[0mDataFrame\u001b[0m\u001b[1;33m(\u001b[0m\u001b[0mreviews\u001b[0m\u001b[1;33m)\u001b[0m\u001b[1;33m[\u001b[0m\u001b[1;33m[\u001b[0m\u001b[1;34m'review'\u001b[0m\u001b[1;33m,\u001b[0m \u001b[1;34m'voted_up'\u001b[0m\u001b[1;33m]\u001b[0m\u001b[1;33m]\u001b[0m\u001b[1;33m\u001b[0m\u001b[1;33m\u001b[0m\u001b[0m\n",
      "\u001b[1;32m<ipython-input-3-6a2c5d794a77>\u001b[0m in \u001b[0;36mget_n_appids\u001b[1;34m(n, filter_by)\u001b[0m\n\u001b[0;32m      6\u001b[0m     \u001b[1;32mwhile\u001b[0m \u001b[0mpage\u001b[0m\u001b[1;33m*\u001b[0m\u001b[1;36m25\u001b[0m \u001b[1;33m<\u001b[0m \u001b[0mn\u001b[0m\u001b[1;33m:\u001b[0m\u001b[1;33m\u001b[0m\u001b[1;33m\u001b[0m\u001b[0m\n\u001b[0;32m      7\u001b[0m         \u001b[0mpage\u001b[0m \u001b[1;33m+=\u001b[0m \u001b[1;36m1\u001b[0m\u001b[1;33m\u001b[0m\u001b[1;33m\u001b[0m\u001b[0m\n\u001b[1;32m----> 8\u001b[1;33m         \u001b[0mresponse\u001b[0m \u001b[1;33m=\u001b[0m \u001b[0mrequests\u001b[0m\u001b[1;33m.\u001b[0m\u001b[0mget\u001b[0m\u001b[1;33m(\u001b[0m\u001b[0murl\u001b[0m\u001b[1;33m=\u001b[0m\u001b[0murl\u001b[0m\u001b[1;33m+\u001b[0m\u001b[0mstr\u001b[0m\u001b[1;33m(\u001b[0m\u001b[0mpage\u001b[0m\u001b[1;33m)\u001b[0m\u001b[1;33m,\u001b[0m \u001b[0mheaders\u001b[0m\u001b[1;33m=\u001b[0m\u001b[1;33m{\u001b[0m\u001b[1;34m'User-Agent'\u001b[0m\u001b[1;33m:\u001b[0m \u001b[1;34m'Mozilla/5.0'\u001b[0m\u001b[1;33m}\u001b[0m\u001b[1;33m)\u001b[0m\u001b[1;33m\u001b[0m\u001b[1;33m\u001b[0m\u001b[0m\n\u001b[0m\u001b[0;32m      9\u001b[0m         \u001b[0msoup\u001b[0m \u001b[1;33m=\u001b[0m \u001b[0mBeautifulSoup\u001b[0m\u001b[1;33m(\u001b[0m\u001b[0mresponse\u001b[0m\u001b[1;33m.\u001b[0m\u001b[0mtext\u001b[0m\u001b[1;33m,\u001b[0m \u001b[1;34m'html.parser'\u001b[0m\u001b[1;33m)\u001b[0m\u001b[1;33m\u001b[0m\u001b[1;33m\u001b[0m\u001b[0m\n\u001b[0;32m     10\u001b[0m         \u001b[1;32mfor\u001b[0m \u001b[0mrow\u001b[0m \u001b[1;32min\u001b[0m \u001b[0msoup\u001b[0m\u001b[1;33m.\u001b[0m\u001b[0mfind_all\u001b[0m\u001b[1;33m(\u001b[0m\u001b[0mclass_\u001b[0m\u001b[1;33m=\u001b[0m\u001b[1;34m'search_result_row'\u001b[0m\u001b[1;33m)\u001b[0m\u001b[1;33m:\u001b[0m\u001b[1;33m\u001b[0m\u001b[1;33m\u001b[0m\u001b[0m\n",
      "\u001b[1;31mNameError\u001b[0m: name 'requests' is not defined"
     ]
    }
   ],
   "source": [
    "reviews = []\n",
    "appids = get_n_appids(750)\n",
    "for appid in appids:\n",
    "    reviews += get_n_reviews(appid, 100)\n",
    "df = pd.DataFrame(reviews)[['review', 'voted_up']]\n",
    "df"
   ]
  },
  {
   "cell_type": "code",
   "execution_count": null,
   "metadata": {},
   "outputs": [],
   "source": []
  }
 ],
 "metadata": {
  "kernelspec": {
   "display_name": "Python 3",
   "language": "python",
   "name": "python3"
  },
  "language_info": {
   "codemirror_mode": {
    "name": "ipython",
    "version": 3
   },
   "file_extension": ".py",
   "mimetype": "text/x-python",
   "name": "python",
   "nbconvert_exporter": "python",
   "pygments_lexer": "ipython3",
   "version": "3.8.3"
  }
 },
 "nbformat": 4,
 "nbformat_minor": 4
}
